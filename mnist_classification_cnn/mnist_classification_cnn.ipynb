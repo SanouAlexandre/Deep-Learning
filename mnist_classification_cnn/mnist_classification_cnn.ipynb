{
  "nbformat": 4,
  "nbformat_minor": 0,
  "metadata": {
    "colab": {
      "name": "student_CNN (1).ipynb.txt",
      "provenance": [],
      "collapsed_sections": [
        "I4VrCB5La5rD"
      ]
    },
    "kernelspec": {
      "name": "python3",
      "display_name": "Python 3"
    },
    "accelerator": "GPU"
  },
  "cells": [
    {
      "cell_type": "markdown",
      "metadata": {
        "id": "iafPdtuncbq7"
      },
      "source": [
        "\n",
        "<h2><center>MNIST classification using a CNN</center></h2>\n"
      ]
    },
    {
      "cell_type": "markdown",
      "metadata": {
        "id": "I4VrCB5La5rD"
      },
      "source": [
        "# Installing and importing Keras"
      ]
    },
    {
      "cell_type": "code",
      "metadata": {
        "id": "OlKZ3Hnas7B4",
        "colab": {
          "base_uri": "https://localhost:8080/"
        },
        "outputId": "3065f13f-9a6c-4524-a66e-49fb54950164"
      },
      "source": [
        "# Importing the Keras main module: different backends will have different data ordering:\n",
        "# theano backend: NCHW\n",
        "# tensorflow backend: NHWC \n",
        "import tensorflow as tf\n",
        "import keras\n",
        "print(\"Using tensorflow version \" + str(tf.__version__))\n",
        "print(\"Using keras version \" + str(keras.__version__))"
      ],
      "execution_count": 9,
      "outputs": [
        {
          "output_type": "stream",
          "name": "stdout",
          "text": [
            "Using tensorflow version 2.7.0\n",
            "Using keras version 2.7.0\n"
          ]
        }
      ]
    },
    {
      "cell_type": "markdown",
      "metadata": {
        "id": "s_QLz9_jbRZq"
      },
      "source": [
        "# Loading and preparing the MNIST dataset\n",
        "Load the MNIST dataset made available by keras.datasets\n",
        "Verify the amount of system memory available before and after loading the dataset."
      ]
    },
    {
      "cell_type": "code",
      "metadata": {
        "id": "gG83hGyVmijn",
        "colab": {
          "base_uri": "https://localhost:8080/"
        },
        "outputId": "0e6fe643-2f11-4f59-aa9f-ed670babf381"
      },
      "source": [
        "#@title\n",
        "# The MNSIT dataset is ready to be imported from Keras into RAM\n",
        "# Warning: you cannot do that for larger databases (e.g., ImageNet)\n",
        "from tensorflow.keras.datasets import mnist\n",
        "# START CODE HERE\n",
        "data = mnist.load_data()\n",
        "(X_train, y_train) , (X_test, y_test) = data\n",
        "print(X_train.shape)\n",
        "print(y_train.shape)\n",
        "# END CODE HERE"
      ],
      "execution_count": 47,
      "outputs": [
        {
          "output_type": "stream",
          "name": "stdout",
          "text": [
            "(60000, 28, 28)\n",
            "(60000,)\n"
          ]
        }
      ]
    },
    {
      "cell_type": "markdown",
      "metadata": {
        "id": "tqtZCOxcDS0U"
      },
      "source": [
        "Turn train and test labels to one-hot encoding"
      ]
    },
    {
      "cell_type": "code",
      "metadata": {
        "id": "lQbkllF8mnaf"
      },
      "source": [
        "# Do you remember about one-hot encoding ?\n",
        "from keras.utils.np_utils import to_categorical\n",
        "# START CODE HERE\n",
        "num_classes = 10\n",
        "\n",
        "y_train = keras.utils.np_utils.to_categorical(y_train, num_classes)\n",
        "y_test = keras.utils.np_utils.to_categorical(y_test, num_classes)\n",
        "# END CODE HERE\n",
        "\n"
      ],
      "execution_count": 48,
      "outputs": []
    },
    {
      "cell_type": "markdown",
      "metadata": {
        "id": "sTSbzJ8zDi0b"
      },
      "source": [
        "Reshape the train and test images to the correct 4-dimensional NHWC format using the reshape() method.\n",
        "Then, normalize the images so that they have zero mean and standard deviation equal to 1 (also approximate solutions are acceptable)"
      ]
    },
    {
      "cell_type": "code",
      "metadata": {
        "id": "ptTRSDo5nJyZ",
        "colab": {
          "base_uri": "https://localhost:8080/"
        },
        "outputId": "f038cd70-09e0-4b35-d64a-e3f516253b30"
      },
      "source": [
        "# Reshape to proper images with 1 color channel according to backend scheme\n",
        "img_rows, img_cols = 28, 28\n",
        "# START CODE HERE\n",
        "train_images = X_train.reshape((X_train.shape[0], img_rows,img_cols, 1))\n",
        "test_images = X_test.reshape((X_test.shape[0], img_rows, img_cols, 1))\n",
        "# END CODE HERE\n",
        "\n",
        "# Now let us normalize the image in the [0-1] range\n",
        "train_images = train_images.astype('float32')\n",
        "test_images = test_images.astype('float32')\n",
        "# START CODE HERE\n",
        "train_images = train_images/255\n",
        "test_images = test_images/255\n",
        "# END CODE HERE\n",
        "X_train.shape[1:]\n",
        "X_train.shape[0]"
      ],
      "execution_count": 49,
      "outputs": [
        {
          "output_type": "execute_result",
          "data": {
            "text/plain": [
              "60000"
            ]
          },
          "metadata": {},
          "execution_count": 49
        }
      ]
    },
    {
      "cell_type": "markdown",
      "metadata": {
        "id": "uwm1OFOtc4uU"
      },
      "source": [
        "# Defining the neural network architecture (i.e., the network model)\n",
        "Create a LeNet5-like convolutional neural network taking in input the images as matrices of pixels and suitable to classify each image across 10 different classes.![lenet.png](data:image/png;base64,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)\n",
        "Then, instantiate a SGD optimizer with a tentative LR of 10^-3 and using the appropriate loss function and compile the model.\n",
        "Calculate the coputational complexity of the convolutional layer(s) and of the first fully connected layer and compare it with that of the previous exercise."
      ]
    },
    {
      "cell_type": "code",
      "metadata": {
        "id": "Pnd3q1V3nk8v",
        "colab": {
          "base_uri": "https://localhost:8080/"
        },
        "outputId": "7515fc32-1e65-4c1e-f0b8-dae0eda462a7"
      },
      "source": [
        "# The Sequential module is sort of a container for more complex NN elements and\n",
        "# defines a loop-less NN architecture\n",
        "from tensorflow.keras.models import Sequential\n",
        "from tensorflow.keras.layers import Dense, Activation, Flatten\n",
        "from tensorflow.keras.layers import Convolution2D, MaxPooling2D, Dropout\n",
        "\n",
        "# The optimizers module provides a number of optimization algorithms for updating\n",
        "# a netwok parameters accoridng to teh computed error gradints\n",
        "from tensorflow.keras import optimizers\n",
        "\n",
        "input_shape = (img_rows, img_cols, 1)\n",
        "\n",
        "# size of pooling area for max pooling\n",
        "pool_size = (2, 2)\n",
        "# convolution kernel size\n",
        "kernel_size = (5, 5)\n",
        "# Number of filters in first convolutional layer\n",
        "num_kernel_first_conv_layer = 6\n",
        "# Number of filters in second convolutional layer\n",
        "num_kernel_second_conv_layer = 16\n",
        "\n",
        "nb_classes = 10\n",
        "\n",
        "# START CODE HERE\n",
        "\n",
        "model2 = Sequential()\n",
        "\n",
        "model2.add(Convolution2D(num_kernel_first_conv_layer,kernel_size,padding='same',input_shape=input_shape))\n",
        "model2.add(Activation('relu'))\n",
        "model2.add(MaxPooling2D(pool_size))\n",
        "\n",
        "model2.add(Convolution2D(num_kernel_second_conv_layer,kernel_size))\n",
        "model2.add(Activation('relu'))\n",
        "model2.add(MaxPooling2D(pool_size))\n",
        "\n",
        "model2.add(Flatten())\n",
        "model2.add(Dense(120))\n",
        "model2.add(Activation('relu'))\n",
        "model2.add(Dense(84))\n",
        "model2.add(Activation('relu'))\n",
        "model2.add(Dense(10))\n",
        "model2.add(Activation('softmax'))\n",
        "\n",
        "# END CODE HERE\n",
        "\n",
        "# Defining our SGD optimizer\n",
        "\n",
        "# START CODE HERE\n",
        "from tensorflow.keras.optimizers import SGD\n",
        "from keras import optimizers\n",
        "\n",
        "model2.compile(loss='categorical_crossentropy',\n",
        " optimizer=SGD(),\n",
        " metrics=['accuracy'])\n",
        " \n",
        "# END CODE HERE\n",
        "\n",
        "# Let us have a look at the model topology\n",
        "model2.summary()\n",
        "\n"
      ],
      "execution_count": 50,
      "outputs": [
        {
          "output_type": "stream",
          "name": "stdout",
          "text": [
            "Model: \"sequential_16\"\n",
            "_________________________________________________________________\n",
            " Layer (type)                Output Shape              Param #   \n",
            "=================================================================\n",
            " conv2d_30 (Conv2D)          (None, 28, 28, 6)         156       \n",
            "                                                                 \n",
            " activation_40 (Activation)  (None, 28, 28, 6)         0         \n",
            "                                                                 \n",
            " max_pooling2d_26 (MaxPoolin  (None, 14, 14, 6)        0         \n",
            " g2D)                                                            \n",
            "                                                                 \n",
            " conv2d_31 (Conv2D)          (None, 10, 10, 16)        2416      \n",
            "                                                                 \n",
            " activation_41 (Activation)  (None, 10, 10, 16)        0         \n",
            "                                                                 \n",
            " max_pooling2d_27 (MaxPoolin  (None, 5, 5, 16)         0         \n",
            " g2D)                                                            \n",
            "                                                                 \n",
            " flatten_12 (Flatten)        (None, 400)               0         \n",
            "                                                                 \n",
            " dense_19 (Dense)            (None, 120)               48120     \n",
            "                                                                 \n",
            " activation_42 (Activation)  (None, 120)               0         \n",
            "                                                                 \n",
            " dense_20 (Dense)            (None, 84)                10164     \n",
            "                                                                 \n",
            " activation_43 (Activation)  (None, 84)                0         \n",
            "                                                                 \n",
            " dense_21 (Dense)            (None, 10)                850       \n",
            "                                                                 \n",
            " activation_44 (Activation)  (None, 10)                0         \n",
            "                                                                 \n",
            "=================================================================\n",
            "Total params: 61,706\n",
            "Trainable params: 61,706\n",
            "Non-trainable params: 0\n",
            "_________________________________________________________________\n"
          ]
        }
      ]
    },
    {
      "cell_type": "markdown",
      "metadata": {
        "id": "_AWUAW4idF3D"
      },
      "source": [
        "# Training the network\n",
        "Train the model for 10 epochs and over 10k training samples initially only using the fit() method, validating the model at each epoch and keeping track of the training history"
      ]
    },
    {
      "cell_type": "code",
      "metadata": {
        "id": "gTHrbb7uFYWz",
        "colab": {
          "base_uri": "https://localhost:8080/"
        },
        "outputId": "3163c69f-465c-4313-c6d6-2d0dfe05ee20"
      },
      "source": [
        "# This is where the actual training-testing happens\n",
        "# Dimension of the batch size (number of images over which error gradients are averaged)\n",
        "batch_size = 100\n",
        "# Number of epochs we want to train\n",
        "epochs = 10\n",
        "# START CODE HERE\n",
        "history = model2.fit(train_images, y_train,\n",
        " batch_size=batch_size,\n",
        " epochs=epochs,\n",
        " verbose=1,\n",
        " validation_data=(test_images, y_test))\n",
        "\n",
        "# END CODE HERE"
      ],
      "execution_count": 51,
      "outputs": [
        {
          "output_type": "stream",
          "name": "stdout",
          "text": [
            "Epoch 1/10\n",
            "600/600 [==============================] - 13s 7ms/step - loss: 0.8782 - accuracy: 0.7410 - val_loss: 0.3117 - val_accuracy: 0.9014\n",
            "Epoch 2/10\n",
            "600/600 [==============================] - 4s 6ms/step - loss: 0.2420 - accuracy: 0.9270 - val_loss: 0.1782 - val_accuracy: 0.9461\n",
            "Epoch 3/10\n",
            "600/600 [==============================] - 4s 6ms/step - loss: 0.1716 - accuracy: 0.9484 - val_loss: 0.1301 - val_accuracy: 0.9603\n",
            "Epoch 4/10\n",
            "600/600 [==============================] - 4s 6ms/step - loss: 0.1355 - accuracy: 0.9601 - val_loss: 0.1156 - val_accuracy: 0.9646\n",
            "Epoch 5/10\n",
            "600/600 [==============================] - 4s 6ms/step - loss: 0.1146 - accuracy: 0.9655 - val_loss: 0.0900 - val_accuracy: 0.9730\n",
            "Epoch 6/10\n",
            "600/600 [==============================] - 4s 6ms/step - loss: 0.0992 - accuracy: 0.9701 - val_loss: 0.0848 - val_accuracy: 0.9724\n",
            "Epoch 7/10\n",
            "600/600 [==============================] - 4s 6ms/step - loss: 0.0883 - accuracy: 0.9731 - val_loss: 0.0765 - val_accuracy: 0.9762\n",
            "Epoch 8/10\n",
            "600/600 [==============================] - 4s 6ms/step - loss: 0.0815 - accuracy: 0.9754 - val_loss: 0.0683 - val_accuracy: 0.9779\n",
            "Epoch 9/10\n",
            "600/600 [==============================] - 4s 6ms/step - loss: 0.0753 - accuracy: 0.9771 - val_loss: 0.0653 - val_accuracy: 0.9793\n",
            "Epoch 10/10\n",
            "600/600 [==============================] - 4s 6ms/step - loss: 0.0705 - accuracy: 0.9789 - val_loss: 0.0607 - val_accuracy: 0.9805\n"
          ]
        }
      ]
    },
    {
      "cell_type": "code",
      "source": [
        "score = model2.evaluate(X_test, y_test, verbose=0)\n",
        "print('Test loss:', score[0])\n",
        "print(score)"
      ],
      "metadata": {
        "colab": {
          "base_uri": "https://localhost:8080/"
        },
        "id": "j-5NDJoVRxIx",
        "outputId": "d9989719-845b-4887-f49b-81fd03e3a34e"
      },
      "execution_count": 52,
      "outputs": [
        {
          "output_type": "stream",
          "name": "stdout",
          "text": [
            "Test loss: 8.466386795043945\n",
            "[8.466386795043945, 0.9804999828338623]\n"
          ]
        }
      ]
    },
    {
      "cell_type": "code",
      "source": [
        "print('Test accuracy:', score[1])"
      ],
      "metadata": {
        "colab": {
          "base_uri": "https://localhost:8080/"
        },
        "id": "BhR4kQpFRw4j",
        "outputId": "f456d373-2835-4d65-eba6-2f690b3e81d7"
      },
      "execution_count": 53,
      "outputs": [
        {
          "output_type": "stream",
          "name": "stdout",
          "text": [
            "Test accuracy: 0.9804999828338623\n"
          ]
        }
      ]
    },
    {
      "cell_type": "markdown",
      "metadata": {
        "id": "ODUc5Bq_dMEq"
      },
      "source": [
        "# Visualizing the network performance\n",
        "Visualize the training history using the pyplot package: plot in one graph the train and vaidation loss functions, in another graph the train and validation accuracy"
      ]
    },
    {
      "cell_type": "code",
      "metadata": {
        "id": "QdJrRbyariEw",
        "colab": {
          "base_uri": "https://localhost:8080/",
          "height": 573
        },
        "outputId": "19c9be54-a74c-4345-c606-eb0c05acc3ff"
      },
      "source": [
        "# We now want to plot the train and validation loss functions and accuracy curves\n",
        "from matplotlib import pyplot as plt\n",
        "# summarize history for loss\n",
        "# START CODE HERE\n",
        "plt.plot(history.history['loss'])\n",
        "plt.plot(history.history['val_loss'])\n",
        "plt.title('Model Loss')\n",
        "plt.ylabel('Loss')\n",
        "plt.ylim(top=3)\n",
        "plt.ylim(bottom=0)\n",
        "plt.xlabel('Epoch')\n",
        "plt.xlim(left=0)\n",
        "plt.xlim(right=10)\n",
        "plt.legend(['train', 'test'], loc='upper right')\n",
        "# END CODE HERE\n",
        "plt.show()\n",
        "\n",
        "# summarize history for accuracy\n",
        "# START CODE HERE\n",
        "plt.plot(history.history['accuracy'])\n",
        "plt.plot(history.history['val_accuracy'])\n",
        "plt.title('Model Accuracy')\n",
        "plt.ylabel('Accuracy')\n",
        "plt.ylim(top=1)\n",
        "plt.ylim(bottom=0)\n",
        "plt.xlabel('Epoch')\n",
        "plt.xlim(left=0)\n",
        "plt.xlim(right=10)\n",
        "plt.legend(['train', 'test'], loc='lower right')\n",
        "# END CODE HERE\n",
        "plt.show()\n"
      ],
      "execution_count": 54,
      "outputs": [
        {
          "output_type": "display_data",
          "data": {
            "image/png": "[encoded data removed]",
            "text/plain": [
              "<Figure size 432x288 with 1 Axes>"
            ]
          },
          "metadata": {
            "needs_background": "light"
          }
        },
        {
          "output_type": "display_data",
          "data": {
            "image/png": "[encoded data removed]",
            "text/plain": [
              "<Figure size 432x288 with 1 Axes>"
            ]
          },
          "metadata": {
            "needs_background": "light"
          }
        }
      ]
    },
    {
      "cell_type": "markdown",
      "metadata": {
        "id": "Nr4TdWoEoDzi"
      },
      "source": [
        "# Experiments\n",
        "\n",
        "Note down the performance of the trained network in terms of training and validation accuracy as a reference. Then, experiment as follow and compare performance with the reference scenario.\n",
        "\n",
        "* Experiment with square filters of different size and compare performance with reference scenario.\n",
        "* Experiment increasing the number of filters in the first and second layer and find the maximum number of filters the network can tolerate before overfitting to the training samples.\n",
        "* Expeirment with different pooling layers (maxpooling and avgpooling): which one yield the best performance ?\n",
        "* Modify the network architecture to obtain a twofold reduction of each featuremap without resorting to pooling layers (hint: take insipiration from the ResNet architecture).\n",
        "* Using the proper metric  from sklearn, check which character is most frequently confused with which: can you explain why ?\n",
        "\n",
        "\n",
        "\n"
      ]
    },
    {
      "cell_type": "code",
      "metadata": {
        "id": "r0C1J6R1Elfc",
        "colab": {
          "base_uri": "https://localhost:8080/"
        },
        "outputId": "b0f4ba1c-86aa-4d8c-9fe2-dacb8fca3c48"
      },
      "source": [
        "# Example of a confusion matrix using sklearn.metrics\n",
        "from sklearn.metrics import confusion_matrix\n",
        "import numpy as np\n",
        "predictions = model2.predict(test_images, batch_size)\n",
        "# Mind that confusion_matrix requires\n",
        "# START CODE HERE\n",
        "\n",
        "matrix = np.round(confusion_matrix(np.argmax(y_test,axis=1), np.argmax(predictions,axis=1),normalize=\"pred\"),2)\n",
        "# END CODE HERE\n",
        "print (matrix)"
      ],
      "execution_count": 61,
      "outputs": [
        {
          "output_type": "stream",
          "name": "stdout",
          "text": [
            "[[0.98 0.   0.   0.   0.   0.   0.   0.   0.   0.  ]\n",
            " [0.   0.98 0.   0.   0.   0.   0.   0.   0.   0.  ]\n",
            " [0.   0.   0.98 0.   0.   0.   0.   0.   0.01 0.  ]\n",
            " [0.   0.   0.   0.98 0.   0.01 0.   0.   0.   0.  ]\n",
            " [0.   0.   0.   0.   0.98 0.   0.   0.   0.   0.01]\n",
            " [0.   0.   0.   0.   0.   0.97 0.   0.   0.   0.  ]\n",
            " [0.01 0.   0.   0.   0.   0.01 0.99 0.   0.   0.  ]\n",
            " [0.   0.   0.01 0.   0.   0.   0.   0.98 0.   0.01]\n",
            " [0.01 0.   0.   0.   0.   0.01 0.   0.   0.98 0.  ]\n",
            " [0.   0.   0.   0.   0.01 0.01 0.   0.   0.   0.98]]\n"
          ]
        }
      ]
    }
  ]
}