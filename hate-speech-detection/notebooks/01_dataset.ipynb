{
 "cells": [
  {
   "cell_type": "code",
   "execution_count": 1,
   "metadata": {},
   "outputs": [
    {
     "name": "stderr",
     "output_type": "stream",
     "text": [
      "c:\\Users\\sanou\\anaconda3\\envs\\gpu-env\\lib\\site-packages\\tqdm\\auto.py:21: TqdmWarning: IProgress not found. Please update jupyter and ipywidgets. See https://ipywidgets.readthedocs.io/en/stable/user_install.html\n",
      "  from .autonotebook import tqdm as notebook_tqdm\n"
     ]
    }
   ],
   "source": [
    "# Import packages\n",
    "import os\n",
    "from datasets import load_dataset"
   ]
  },
  {
   "attachments": {},
   "cell_type": "markdown",
   "metadata": {},
   "source": [
    "## Datasets From Hugging Face"
   ]
  },
  {
   "cell_type": "code",
   "execution_count": 12,
   "metadata": {},
   "outputs": [],
   "source": [
    "# https://huggingface.co/datasets\n",
    "\n",
    "dataset_names = [\n",
    "    'Paul/hatecheck-french',\n",
    "    'hate_speech18',\n",
    "    'hate_speech_offensive',\n",
    "    'tweets_hate_speech_detection',\n",
    "    'limjiayi/hateful_memes_expanded',\n",
    "    'classla/FRENK-hate-en',\n",
    "    'ucberkeley-dlab/measuring-hate-speech',\n",
    "    # 'hatexplain'\n",
    "]\n",
    "# Output directory\n",
    "output_dir = '../data/raw/'\n",
    "# Create the output directory if it doesn't exist\n",
    "os.makedirs(output_dir, exist_ok=True)\n",
    "# Output file extension\n",
    "extension = 'tsv'"
   ]
  },
  {
   "cell_type": "code",
   "execution_count": 9,
   "metadata": {},
   "outputs": [
    {
     "name": "stdout",
     "output_type": "stream",
     "text": [
      "Loading Paul/hatecheck-french...\n",
      "\n",
      "Loading hate_speech18...\n",
      "\n"
     ]
    },
    {
     "name": "stderr",
     "output_type": "stream",
     "text": [
      "Generating train split: 100%|██████████| 10944/10944 [01:29<00:00, 122.29 examples/s]\n"
     ]
    },
    {
     "name": "stdout",
     "output_type": "stream",
     "text": [
      "Loading hate_speech_offensive...\n",
      "\n"
     ]
    },
    {
     "name": "stderr",
     "output_type": "stream",
     "text": [
      "c:\\Users\\sanou\\anaconda3\\envs\\gpu-env\\lib\\site-packages\\huggingface_hub\\file_download.py:159: UserWarning: `huggingface_hub` cache-system uses symlinks by default to efficiently store duplicated files but your machine does not support them in C:\\Users\\sanou\\.cache\\huggingface\\hub\\datasets--hate_speech_offensive. Caching files will still work but in a degraded version that might require more space on your disk. This warning can be disabled by setting the `HF_HUB_DISABLE_SYMLINKS_WARNING` environment variable. For more details, see https://huggingface.co/docs/huggingface_hub/how-to-cache#limitations.\n",
      "To support symlinks on Windows, you either need to activate Developer Mode or to run Python as an administrator. In order to see activate developer mode, see this article: https://docs.microsoft.com/en-us/windows/apps/get-started/enable-your-device-for-development\n",
      "  warnings.warn(message)\n",
      "Generating train split: 100%|██████████| 24783/24783 [00:00<00:00, 1180107.81 examples/s]\n"
     ]
    },
    {
     "name": "stdout",
     "output_type": "stream",
     "text": [
      "Loading tweets_hate_speech_detection...\n",
      "\n"
     ]
    },
    {
     "name": "stderr",
     "output_type": "stream",
     "text": [
      "c:\\Users\\sanou\\anaconda3\\envs\\gpu-env\\lib\\site-packages\\huggingface_hub\\file_download.py:159: UserWarning: `huggingface_hub` cache-system uses symlinks by default to efficiently store duplicated files but your machine does not support them in C:\\Users\\sanou\\.cache\\huggingface\\hub\\datasets--tweets_hate_speech_detection. Caching files will still work but in a degraded version that might require more space on your disk. This warning can be disabled by setting the `HF_HUB_DISABLE_SYMLINKS_WARNING` environment variable. For more details, see https://huggingface.co/docs/huggingface_hub/how-to-cache#limitations.\n",
      "To support symlinks on Windows, you either need to activate Developer Mode or to run Python as an administrator. In order to see activate developer mode, see this article: https://docs.microsoft.com/en-us/windows/apps/get-started/enable-your-device-for-development\n",
      "  warnings.warn(message)\n",
      "Generating train split: 100%|██████████| 31962/31962 [00:00<00:00, 2130920.58 examples/s]\n",
      "Generating test split: 100%|██████████| 17197/17197 [00:00<00:00, 1563341.41 examples/s]\n"
     ]
    },
    {
     "name": "stdout",
     "output_type": "stream",
     "text": [
      "Loading limjiayi/hateful_memes_expanded...\n",
      "\n"
     ]
    },
    {
     "name": "stderr",
     "output_type": "stream",
     "text": [
      "c:\\Users\\sanou\\anaconda3\\envs\\gpu-env\\lib\\site-packages\\huggingface_hub\\file_download.py:159: UserWarning: `huggingface_hub` cache-system uses symlinks by default to efficiently store duplicated files but your machine does not support them in C:\\Users\\sanou\\.cache\\huggingface\\hub\\datasets--limjiayi--hateful_memes_expanded. Caching files will still work but in a degraded version that might require more space on your disk. This warning can be disabled by setting the `HF_HUB_DISABLE_SYMLINKS_WARNING` environment variable. For more details, see https://huggingface.co/docs/huggingface_hub/how-to-cache#limitations.\n",
      "To support symlinks on Windows, you either need to activate Developer Mode or to run Python as an administrator. In order to see activate developer mode, see this article: https://docs.microsoft.com/en-us/windows/apps/get-started/enable-your-device-for-development\n",
      "  warnings.warn(message)\n",
      "Generating train split: 100%|██████████| 12887/12887 [00:00<00:00, 1285850.12 examples/s]\n",
      "Generating validation split: 100%|██████████| 1040/1040 [00:00<00:00, 90360.78 examples/s]\n",
      "Generating test split: 100%|██████████| 3000/3000 [00:00<00:00, 249433.30 examples/s]\n"
     ]
    },
    {
     "name": "stdout",
     "output_type": "stream",
     "text": [
      "Loading classla/FRENK-hate-en...\n",
      "\n"
     ]
    },
    {
     "name": "stderr",
     "output_type": "stream",
     "text": [
      "c:\\Users\\sanou\\anaconda3\\envs\\gpu-env\\lib\\site-packages\\huggingface_hub\\file_download.py:159: UserWarning: `huggingface_hub` cache-system uses symlinks by default to efficiently store duplicated files but your machine does not support them in C:\\Users\\sanou\\.cache\\huggingface\\hub\\datasets--classla--FRENK-hate-en. Caching files will still work but in a degraded version that might require more space on your disk. This warning can be disabled by setting the `HF_HUB_DISABLE_SYMLINKS_WARNING` environment variable. For more details, see https://huggingface.co/docs/huggingface_hub/how-to-cache#limitations.\n",
      "To support symlinks on Windows, you either need to activate Developer Mode or to run Python as an administrator. In order to see activate developer mode, see this article: https://docs.microsoft.com/en-us/windows/apps/get-started/enable-your-device-for-development\n",
      "  warnings.warn(message)\n",
      "Generating train split: 8404 examples [00:00, 43830.34 examples/s]\n",
      "Generating validation split: 933 examples [00:00, 26657.26 examples/s]\n",
      "Generating test split: 2301 examples [00:00, 38022.78 examples/s]\n"
     ]
    },
    {
     "name": "stdout",
     "output_type": "stream",
     "text": [
      "Loading ucberkeley-dlab/measuring-hate-speech...\n",
      "\n"
     ]
    },
    {
     "name": "stderr",
     "output_type": "stream",
     "text": [
      "c:\\Users\\sanou\\anaconda3\\envs\\gpu-env\\lib\\site-packages\\huggingface_hub\\file_download.py:159: UserWarning: `huggingface_hub` cache-system uses symlinks by default to efficiently store duplicated files but your machine does not support them in C:\\Users\\sanou\\.cache\\huggingface\\hub\\datasets--ucberkeley-dlab--measuring-hate-speech. Caching files will still work but in a degraded version that might require more space on your disk. This warning can be disabled by setting the `HF_HUB_DISABLE_SYMLINKS_WARNING` environment variable. For more details, see https://huggingface.co/docs/huggingface_hub/how-to-cache#limitations.\n",
      "To support symlinks on Windows, you either need to activate Developer Mode or to run Python as an administrator. In order to see activate developer mode, see this article: https://docs.microsoft.com/en-us/windows/apps/get-started/enable-your-device-for-development\n",
      "  warnings.warn(message)\n",
      "Generating train split: 100%|██████████| 135556/135556 [00:00<00:00, 936609.33 examples/s]\n"
     ]
    }
   ],
   "source": [
    "for dataset in dataset_names:\n",
    "    print(f'Loading {dataset}...\\n')\n",
    "    # Loading dataset\n",
    "    ds = load_dataset(dataset, trust_remote_code=True)\n",
    "    # Converting to pandas dataframe\n",
    "    ds.set_format(type='pandas')\n",
    "    # Saving the different datasets split\n",
    "    for key in ds.keys():\n",
    "        df = ds[key][:]    \n",
    "        name = dataset.replace('/', '_').replace('\\\\', '_')\n",
    "        file_name = f'{name}_{key}.{extension}'\n",
    "        file_path = os.path.join(output_dir, file_name)\n",
    "        # Saving the data\n",
    "        # with open(file_path, 'w', encoding='utf-8') as file:\n",
    "        df.to_csv(file_path, sep='\\t', index=False, encoding='utf-8')"
   ]
  },
  {
   "attachments": {},
   "cell_type": "markdown",
   "metadata": {},
   "source": [
    "### Hatexplain needs particular preprocessing"
   ]
  },
  {
   "cell_type": "code",
   "execution_count": 11,
   "metadata": {},
   "outputs": [
    {
     "name": "stdout",
     "output_type": "stream",
     "text": [
      "Loading hatexplain...\n",
      "\n"
     ]
    },
    {
     "name": "stderr",
     "output_type": "stream",
     "text": [
      "Downloading data: 100%|██████████| 12.3M/12.3M [00:03<00:00, 3.52MB/s]\n",
      "Downloading data: 100%|██████████| 592k/592k [00:00<00:00, 5.50MB/s]\n",
      "Generating train split: 100%|██████████| 15383/15383 [00:02<00:00, 7258.29 examples/s]\n",
      "Generating validation split: 100%|██████████| 1922/1922 [00:00<00:00, 3244.06 examples/s]\n",
      "Generating test split: 100%|██████████| 1924/1924 [00:00<00:00, 3142.88 examples/s]\n"
     ]
    }
   ],
   "source": [
    "dataset = 'hatexplain'\n",
    "print(f'Loading {dataset}...\\n')\n",
    "# Loading dataset\n",
    "ds = load_dataset(dataset, trust_remote_code=True)\n",
    "# Converting to pandas dataframe\n",
    "ds.set_format(type='pandas')\n",
    "# Saving the different datasets split\n",
    "for key in ds.keys():\n",
    "    df = ds[key][:]\n",
    "    df['post_tokens'] = df['post_tokens'].apply(lambda row: ' '.join(row))\n",
    "    name = dataset.replace('/', '_').replace('\\\\', '_')\n",
    "    file_name = f'{name}_{key}.{extension}'\n",
    "    file_path = os.path.join(output_dir, file_name)\n",
    "    # Saving the data\n",
    "    # with open(file_path, 'w', encoding='utf-8') as file:\n",
    "    df.to_csv(file_path, sep='\\t', index=False, encoding='utf-8')"
   ]
  }
 ],
 "metadata": {
  "kernelspec": {
   "display_name": "mad-env",
   "language": "python",
   "name": "python3"
  },
  "language_info": {
   "codemirror_mode": {
    "name": "ipython",
    "version": 3
   },
   "file_extension": ".py",
   "mimetype": "text/x-python",
   "name": "python",
   "nbconvert_exporter": "python",
   "pygments_lexer": "ipython3",
   "version": "3.10.13"
  }
 },
 "nbformat": 4,
 "nbformat_minor": 2
}
