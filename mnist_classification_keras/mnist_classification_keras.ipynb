{
  "cells": [
    {
      "cell_type": "markdown",
      "metadata": {
        "id": "iafPdtuncbq7"
      },
      "source": [
        "<h1><center>MNIST classification using Keras<center></h1>"
      ]
    },
    {
      "cell_type": "markdown",
      "metadata": {
        "id": "I4VrCB5La5rD"
      },
      "source": [
        "# Importing Keras"
      ]
    },
    {
      "cell_type": "code",
      "execution_count": 1,
      "metadata": {
        "colab": {
          "base_uri": "https://localhost:8080/"
        },
        "id": "OlKZ3Hnas7B4",
        "outputId": "7a49df45-76ce-424b-9dcc-c31d9e97c5d1"
      },
      "outputs": [
        {
          "output_type": "stream",
          "name": "stdout",
          "text": [
            "Using tensorflow version 2.7.0\n",
            "Using keras version 2.7.0\n"
          ]
        }
      ],
      "source": [
        "# Importing the Keras main module forcing tensorflow 1.x backend\n",
        "import tensorflow as tf\n",
        "import keras\n",
        "print(\"Using tensorflow version \" + str(tf.__version__))\n",
        "print(\"Using keras version \" + str(keras.__version__))"
      ]
    },
    {
      "cell_type": "markdown",
      "metadata": {
        "id": "s_QLz9_jbRZq"
      },
      "source": [
        "## Loading and preparing the MNIST dataset\n",
        "\n",
        "Load the MNIST dataset via keras.datasets. Again, turn train and test labels into one-hot encoding, and reshape and normalize data as in the first exercise. "
      ]
    },
    {
      "cell_type": "code",
      "execution_count": 2,
      "metadata": {
        "colab": {
          "base_uri": "https://localhost:8080/"
        },
        "id": "gG83hGyVmijn",
        "outputId": "acdf4490-2fa8-4a5b-cbf7-cc86a23673b3"
      },
      "outputs": [
        {
          "output_type": "stream",
          "name": "stdout",
          "text": [
            "Downloading data from https://storage.googleapis.com/tensorflow/tf-keras-datasets/mnist.npz\n",
            "11493376/11490434 [==============================] - 1s 0us/step\n",
            "11501568/11490434 [==============================] - 1s 0us/step\n"
          ]
        },
        {
          "output_type": "execute_result",
          "data": {
            "text/plain": [
              "tuple"
            ]
          },
          "metadata": {},
          "execution_count": 2
        }
      ],
      "source": [
        "#@title\n",
        "# The MNSIT dataset is ready to be imported from Keras into RAM\n",
        "# Warning: you cannot do that for larger databases (e.g., ImageNet)\n",
        "#from keras.datasets import ...\n",
        "from keras.datasets import mnist \n",
        "data = mnist.load_data()\n",
        "data\n",
        "type(data)\n"
      ]
    },
    {
      "cell_type": "code",
      "execution_count": 3,
      "metadata": {
        "colab": {
          "base_uri": "https://localhost:8080/"
        },
        "id": "kSdPEyTiMWMN",
        "outputId": "439be1a6-51f5-4bae-bab0-09c53a9f0cd7"
      },
      "outputs": [
        {
          "output_type": "stream",
          "name": "stdout",
          "text": [
            "(60000, 28, 28)\n",
            "(60000,)\n"
          ]
        }
      ],
      "source": [
        "(X_train, y_train), (X_test, y_test) = data\n",
        "print(X_train.shape)\n",
        "print(y_train.shape)"
      ]
    },
    {
      "cell_type": "code",
      "execution_count": 5,
      "metadata": {
        "id": "lQbkllF8mnaf"
      },
      "outputs": [],
      "source": [
        "from keras.utils.np_utils import to_categorical\n",
        "\n",
        "num_classes = 10\n",
        "\n",
        "y_train = keras.utils.np_utils.to_categorical(y_train, num_classes)\n",
        "y_test = keras.utils.np_utils.to_categorical(y_test, num_classes)"
      ]
    },
    {
      "cell_type": "code",
      "execution_count": 6,
      "metadata": {
        "id": "ptTRSDo5nJyZ"
      },
      "outputs": [],
      "source": [
        "# Reshape to proper images with 1 color channel according to backend scheme\n",
        "# Cast pixels from uint8 to float32\n",
        "\n",
        "X_train = X_train.reshape((X_train.shape[0], 28*28)).astype('float32')\n",
        "X_test = X_test.reshape((X_test.shape[0], 28*28)).astype('float32')\n",
        "\n",
        "# Now let us normalize the images so that they have zero mean and standard deviation\n",
        "# Hint: are real testing data statistics known at training time ?\n",
        "\n",
        "X_train = X_train / 255\n",
        "X_test = X_test / 255\n"
      ]
    },
    {
      "cell_type": "markdown",
      "metadata": {
        "id": "lnKYaP-KVoOs"
      },
      "source": [
        "## Defining the neural network architecture (i.e., the network model)\n",
        "\n",
        "Look at this [cheatsheet](https://s3.amazonaws.com/assets.datacamp.com/blog_assets/Keras_Cheat_Sheet_Python.pdf) for some basic information on how to use numpy.\n",
        "\n",
        "First, try to replicate the classifier of the first exercise. Secondly, create a fully connected network.\n",
        "For the fully connected layer, you can for example use this architecture: \n",
        "$$ (784) \\rightarrow (300) \\rightarrow (10) $$\n",
        "For this first implementation of the network, use only sigmoid activations in the hidden layer. Remember to use the right output activation function ! "
      ]
    },
    {
      "cell_type": "code",
      "execution_count": 8,
      "metadata": {
        "id": "Pnd3q1V3nk8v"
      },
      "outputs": [],
      "source": [
        "# The Sequential module is a container for more complex NN elements and\n",
        "# defines a loop-less NN architecture\n",
        "from keras.models import Sequential\n",
        "from keras.layers import Dense, Activation, Flatten , Dropout\n",
        "\n",
        "model = Sequential()\n",
        "model.add(Dense(512, activation='relu', input_shape=(784,)))\n",
        "model.add(Dropout(0.2))\n",
        "model.add(Dense(512, activation='relu'))\n",
        "model.add(Dropout(0.2))\n",
        "model.add(Dense(num_classes, activation='softmax'))"
      ]
    },
    {
      "cell_type": "markdown",
      "metadata": {
        "id": "7g2PNEiwWBLw"
      },
      "source": [
        "Instantiate a SGD optimizer with a tentative learning rate of $\\\\eta = 10^{-2}$ and, using the appropriate loss function (which is called, in keras, ```'categorical_crossentropy'```) and compile the model."
      ]
    },
    {
      "cell_type": "code",
      "execution_count": 9,
      "metadata": {
        "colab": {
          "base_uri": "https://localhost:8080/"
        },
        "id": "SijGZGKjV9J2",
        "outputId": "a5d69f1c-3618-41bf-bfdb-de8b1395a266"
      },
      "outputs": [
        {
          "output_type": "stream",
          "name": "stdout",
          "text": [
            "Model: \"sequential_1\"\n",
            "_________________________________________________________________\n",
            " Layer (type)                Output Shape              Param #   \n",
            "=================================================================\n",
            " dense_1 (Dense)             (None, 512)               401920    \n",
            "                                                                 \n",
            " dropout (Dropout)           (None, 512)               0         \n",
            "                                                                 \n",
            " dense_2 (Dense)             (None, 512)               262656    \n",
            "                                                                 \n",
            " dropout_1 (Dropout)         (None, 512)               0         \n",
            "                                                                 \n",
            " dense_3 (Dense)             (None, 10)                5130      \n",
            "                                                                 \n",
            "=================================================================\n",
            "Total params: 669,706\n",
            "Trainable params: 669,706\n",
            "Non-trainable params: 0\n",
            "_________________________________________________________________\n"
          ]
        }
      ],
      "source": [
        "# The optimizers module provides a number of optimization algorithms for updating\n",
        "# a netwok parameters accoridng to the computed error gradints\n",
        "from tensorflow.keras.optimizers import RMSprop\n",
        "from keras import optimizers\n",
        "\n",
        "model.compile(loss='categorical_crossentropy',\n",
        " optimizer=RMSprop(),\n",
        " metrics=['accuracy'])\n",
        " \n",
        "model.summary()"
      ]
    },
    {
      "cell_type": "markdown",
      "metadata": {
        "id": "u-WqMtSAWTRp"
      },
      "source": [
        "## Training the network\n",
        "\n",
        "Train the model for 10 epochs using the ```.fit()``` method, validating the model at each epoch and keeping track of the training history for later plotting. Make sure you enable ```.fit()``` verbose mode in order to visualize the training.\n",
        "\n",
        "In order to accelerate training, use the ```batch_size``` option of ```.fit()```, which will process a batch of examples at the same time, and make one update for all of them, averaged over the gradients for each training example of the batch. You can begin with a small size, and experiment with a larger size later."
      ]
    },
    {
      "cell_type": "code",
      "execution_count": 10,
      "metadata": {
        "id": "gTHrbb7uFYWz"
      },
      "outputs": [],
      "source": [
        "\n",
        "# This is where the actual training-testing happens\n",
        "# Number of epochs we want to train\n",
        "epochs = 20\n",
        "batch_size = 128\n"
      ]
    },
    {
      "cell_type": "code",
      "execution_count": 11,
      "metadata": {
        "colab": {
          "base_uri": "https://localhost:8080/"
        },
        "id": "KsfQmr0Sjgno",
        "outputId": "0758d084-9def-4803-c43c-12d319e88ffc"
      },
      "outputs": [
        {
          "output_type": "stream",
          "name": "stdout",
          "text": [
            "Epoch 1/20\n",
            "469/469 [==============================] - 5s 6ms/step - loss: 0.2500 - accuracy: 0.9236 - val_loss: 0.1119 - val_accuracy: 0.9670\n",
            "Epoch 2/20\n",
            "469/469 [==============================] - 3s 6ms/step - loss: 0.1029 - accuracy: 0.9677 - val_loss: 0.0906 - val_accuracy: 0.9715\n",
            "Epoch 3/20\n",
            "469/469 [==============================] - 3s 6ms/step - loss: 0.0749 - accuracy: 0.9771 - val_loss: 0.0729 - val_accuracy: 0.9795\n",
            "Epoch 4/20\n",
            "469/469 [==============================] - 3s 6ms/step - loss: 0.0607 - accuracy: 0.9820 - val_loss: 0.0742 - val_accuracy: 0.9800\n",
            "Epoch 5/20\n",
            "469/469 [==============================] - 3s 6ms/step - loss: 0.0501 - accuracy: 0.9847 - val_loss: 0.0772 - val_accuracy: 0.9790\n",
            "Epoch 6/20\n",
            "469/469 [==============================] - 3s 6ms/step - loss: 0.0440 - accuracy: 0.9874 - val_loss: 0.0684 - val_accuracy: 0.9829\n",
            "Epoch 7/20\n",
            "469/469 [==============================] - 3s 6ms/step - loss: 0.0376 - accuracy: 0.9887 - val_loss: 0.0777 - val_accuracy: 0.9815\n",
            "Epoch 8/20\n",
            "469/469 [==============================] - 3s 6ms/step - loss: 0.0337 - accuracy: 0.9900 - val_loss: 0.0883 - val_accuracy: 0.9802\n",
            "Epoch 9/20\n",
            "469/469 [==============================] - 3s 6ms/step - loss: 0.0329 - accuracy: 0.9905 - val_loss: 0.0740 - val_accuracy: 0.9841\n",
            "Epoch 10/20\n",
            "469/469 [==============================] - 3s 6ms/step - loss: 0.0291 - accuracy: 0.9919 - val_loss: 0.0848 - val_accuracy: 0.9820\n",
            "Epoch 11/20\n",
            "469/469 [==============================] - 3s 6ms/step - loss: 0.0252 - accuracy: 0.9928 - val_loss: 0.0940 - val_accuracy: 0.9831\n",
            "Epoch 12/20\n",
            "469/469 [==============================] - 3s 6ms/step - loss: 0.0242 - accuracy: 0.9929 - val_loss: 0.0809 - val_accuracy: 0.9844\n",
            "Epoch 13/20\n",
            "469/469 [==============================] - 3s 6ms/step - loss: 0.0243 - accuracy: 0.9930 - val_loss: 0.0989 - val_accuracy: 0.9829\n",
            "Epoch 14/20\n",
            "469/469 [==============================] - 3s 6ms/step - loss: 0.0226 - accuracy: 0.9938 - val_loss: 0.1086 - val_accuracy: 0.9819\n",
            "Epoch 15/20\n",
            "469/469 [==============================] - 3s 6ms/step - loss: 0.0196 - accuracy: 0.9945 - val_loss: 0.1156 - val_accuracy: 0.9824\n",
            "Epoch 16/20\n",
            "469/469 [==============================] - 3s 6ms/step - loss: 0.0197 - accuracy: 0.9943 - val_loss: 0.1161 - val_accuracy: 0.9833\n",
            "Epoch 17/20\n",
            "469/469 [==============================] - 3s 6ms/step - loss: 0.0194 - accuracy: 0.9949 - val_loss: 0.1188 - val_accuracy: 0.9847\n",
            "Epoch 18/20\n",
            "469/469 [==============================] - 3s 6ms/step - loss: 0.0173 - accuracy: 0.9951 - val_loss: 0.1079 - val_accuracy: 0.9845\n",
            "Epoch 19/20\n",
            "469/469 [==============================] - 3s 6ms/step - loss: 0.0167 - accuracy: 0.9955 - val_loss: 0.1038 - val_accuracy: 0.9854\n",
            "Epoch 20/20\n",
            "469/469 [==============================] - 3s 6ms/step - loss: 0.0161 - accuracy: 0.9958 - val_loss: 0.1208 - val_accuracy: 0.9840\n"
          ]
        }
      ],
      "source": [
        "history = model.fit(X_train, y_train,\n",
        " batch_size=batch_size,\n",
        " epochs=epochs,\n",
        " verbose=1,\n",
        " validation_data=(X_test, y_test))"
      ]
    },
    {
      "cell_type": "code",
      "execution_count": 12,
      "metadata": {
        "colab": {
          "base_uri": "https://localhost:8080/"
        },
        "id": "IvrC8vJvjgnq",
        "outputId": "9a51bb8e-2b58-4771-8e7f-89eee23ef684"
      },
      "outputs": [
        {
          "output_type": "stream",
          "name": "stdout",
          "text": [
            "Test loss: 0.12077442556619644\n",
            "[0.12077442556619644, 0.984000027179718]\n"
          ]
        }
      ],
      "source": [
        "score = model.evaluate(X_test, y_test, verbose=0)\n",
        "print('Test loss:', score[0])\n",
        "print(score)"
      ]
    },
    {
      "cell_type": "code",
      "execution_count": 13,
      "metadata": {
        "colab": {
          "base_uri": "https://localhost:8080/"
        },
        "id": "1cwOs9cRjgns",
        "outputId": "00cf8fb3-4495-4774-c155-43ff3807f9e2"
      },
      "outputs": [
        {
          "output_type": "stream",
          "name": "stdout",
          "text": [
            "Test accuracy: 0.984000027179718\n"
          ]
        }
      ],
      "source": [
        "print('Test accuracy:', score[1])"
      ]
    },
    {
      "cell_type": "markdown",
      "metadata": {
        "id": "ODUc5Bq_dMEq"
      },
      "source": [
        "## Visualizing the network performance\n",
        "\n",
        "Visualize the training history using the ```pyplot``` package:\n",
        "- In one graph, plot the train and vaidation loss functions,\n",
        "- In another graph, the train and validation accuracy.\n",
        "By comparing the training the testing curves, what can we conclude about the quality of the training ?"
      ]
    },
    {
      "cell_type": "code",
      "execution_count": 14,
      "metadata": {
        "colab": {
          "base_uri": "https://localhost:8080/",
          "height": 573
        },
        "id": "QdJrRbyariEw",
        "outputId": "f4a63fb1-c29a-4659-e1a6-7585de68b644"
      },
      "outputs": [
        {
          "output_type": "display_data",
          "data": {
            "image/png": "[encoded data removed]",
            "text/plain": [
              "<Figure size 432x288 with 1 Axes>"
            ]
          },
          "metadata": {
            "needs_background": "light"
          }
        },
        {
          "output_type": "display_data",
          "data": {
            "image/png": "[encoded data removed]",
            "text/plain": [
              "<Figure size 432x288 with 1 Axes>"
            ]
          },
          "metadata": {
            "needs_background": "light"
          }
        }
      ],
      "source": [
        "from matplotlib import pyplot as plt\n",
        "# We now want to plot the train and validation loss functions and accuracy curves\n",
        "#print(history.history.keys())\n",
        "\n",
        "# summarize history for loss\n",
        "plt.plot(history.history['loss'])\n",
        "plt.plot(history.history['val_loss'])\n",
        "plt.title('Model Loss')\n",
        "plt.ylabel('Loss')\n",
        "plt.ylim(top=3)\n",
        "plt.ylim(bottom=0)\n",
        "plt.xlabel('Epoch')\n",
        "plt.xlim(left=0)\n",
        "plt.xlim(right=10)\n",
        "plt.legend(['train', 'test'], loc='upper right')\n",
        "plt.show()\n",
        "\n",
        "# summarize history for accuracy\n",
        "plt.plot(history.history['accuracy'])\n",
        "plt.plot(history.history['val_accuracy'])\n",
        "plt.title('Model Accuracy')\n",
        "plt.ylabel('Accuracy')\n",
        "plt.ylim(top=1)\n",
        "plt.ylim(bottom=0)\n",
        "plt.xlabel('Epoch')\n",
        "plt.xlim(left=0)\n",
        "plt.xlim(right=10)\n",
        "plt.legend(['train', 'test'], loc='lower right')\n",
        "plt.show()"
      ]
    },
    {
      "cell_type": "markdown",
      "metadata": {
        "id": "i3et_-NTgQDQ"
      },
      "source": [
        "# Training-Validation-Test \n",
        "We now propose to select the optimal size for the hidden layer. We want to try different sizes: 100, 300 and 500. Since this parameter should not be selected using the test set, you need to split the training set into a training (80%) and a validation set (20%). Then, select the model that obtains the best performance on the validation set after training on the training set. Use also the score on the validation set to determine how many epochs the network should be trained. Finally, what is its performance on the test set?"
      ]
    },
    {
      "cell_type": "markdown",
      "metadata": {
        "id": "Nr4TdWoEoDzi"
      },
      "source": [
        "## Experiments\n",
        "\n",
        "Note down the performance of the larger network in terms of training and test accuracy as a reference (save the loss/accuracy graphs of the network).\n",
        "\n",
        "Then, experiment as follow and compare performance with the reference scenario:\n",
        "\n",
        "*  Experiment increasing the size of the batch and compare the performance with reference.\n",
        "*  Experiment replacing the sigmoid activations with Relus and note what happens.\n",
        "*  Experiment with a larger architecture, for example: \n",
        "$$ (784) \\rightarrow (300) \\rightarrow (128) \\rightarrow (84) \\rightarrow (10) $$"
      ]
    }
  ],
  "metadata": {
    "accelerator": "GPU",
    "colab": {
      "collapsed_sections": [],
      "name": "mnist_classification.ipynb",
      "provenance": []
    },
    "kernelspec": {
      "display_name": "Python 3",
      "language": "python",
      "name": "python3"
    },
    "language_info": {
      "codemirror_mode": {
        "name": "ipython",
        "version": 3
      },
      "file_extension": ".py",
      "mimetype": "text/x-python",
      "name": "python",
      "nbconvert_exporter": "python",
      "pygments_lexer": "ipython3",
      "version": "3.7.5"
    }
  },
  "nbformat": 4,
  "nbformat_minor": 0
}